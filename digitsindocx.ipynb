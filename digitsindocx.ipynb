{
  "cells": [
    {
      "cell_type": "markdown",
      "metadata": {
        "id": "view-in-github",
        "colab_type": "text"
      },
      "source": [
        "<a href=\"https://colab.research.google.com/github/Alijamali68/Docx/blob/main/digitsindocx.ipynb\" target=\"_parent\"><img src=\"https://colab.research.google.com/assets/colab-badge.svg\" alt=\"Open In Colab\"/></a>"
      ]
    },
    {
      "cell_type": "markdown",
      "source": [
        "# **Calculate the Sum Of The Digits In the Text**"
      ],
      "metadata": {
        "id": "G6h9U56emCmN"
      }
    },
    {
      "cell_type": "code",
      "source": [
        "from docx import Document\n",
        "from unidecode import unidecode\n",
        "import string"
      ],
      "metadata": {
        "id": "_dGuFDE9l4Gk"
      },
      "execution_count": 115,
      "outputs": []
    },
    {
      "cell_type": "markdown",
      "source": [
        "###**TODO:**this will load the docx\n",
        "\n"
      ],
      "metadata": {
        "id": "CBYEIDDDppSc"
      }
    },
    {
      "cell_type": "code",
      "source": [
        "def LoadDocx():\n",
        "  doc=Document('matn.docx')\n",
        "  fixtext=''\n",
        "  for para in doc.paragraphs:\n",
        "    fixtext+=para.text\n",
        "  f2eDigit(fixtext)\n",
        "  "
      ],
      "metadata": {
        "id": "Xsj8as5qm6n8"
      },
      "execution_count": 116,
      "outputs": []
    },
    {
      "cell_type": "markdown",
      "source": [
        "####**TODO:** this will list the number in the text that change to English digit"
      ],
      "metadata": {
        "id": "Q36URpmKp-CM"
      }
    },
    {
      "cell_type": "code",
      "source": [
        "def f2eDigit(text): \n",
        " sumdigit=[]\n",
        " #TODO: this will list the number in text that change to english digit\n",
        " para=list(filter(lambda x: True if x[0] in '0123456789' else False,unidecode(text).split()))    \n",
        " for everynum in para:\n",
        "   sumdigit.append(includetext(everynum))\n",
        " print(sum(sumdigit))"
      ],
      "metadata": {
        "id": "9jfAm2x5m-Yj"
      },
      "execution_count": 123,
      "outputs": []
    },
    {
      "cell_type": "markdown",
      "source": [
        "#### **TODO:** this will check text between digits i.e: ['20t50']"
      ],
      "metadata": {
        "id": "SWnEW7B4r0fF"
      }
    },
    {
      "cell_type": "code",
      "source": [
        "def includetext(number):\n",
        "#TODO: this will check text between digits i.e: ['20t50']\n",
        "  havetext=False\n",
        "  for char in number:\n",
        "    if(char in list(string.ascii_lowercase)):\n",
        "      number=number.replace(number[number.find(char)],' ')\n",
        "      havetext=True\n",
        "  if(havetext):\n",
        "    return sum(list(map(lambda x:float(x),number.split())))\n",
        "  else:\n",
        "    return(float(number)) "
      ],
      "metadata": {
        "id": "kwMGDGS1nImr"
      },
      "execution_count": 124,
      "outputs": []
    },
    {
      "cell_type": "code",
      "source": [
        "LoadDocx()  "
      ],
      "metadata": {
        "colab": {
          "base_uri": "https://localhost:8080/",
          "height": 0
        },
        "id": "RsMY474Tr4R_",
        "outputId": "6d2c72cb-fbef-45fa-9b68-7b3b116d4516"
      },
      "execution_count": 125,
      "outputs": [
        {
          "output_type": "stream",
          "name": "stdout",
          "text": [
            "527.2\n"
          ]
        }
      ]
    },
    {
      "cell_type": "markdown",
      "source": [
        "# New Section"
      ],
      "metadata": {
        "id": "2M8Xurzzr7-d"
      }
    }
  ],
  "metadata": {
    "colab": {
      "name": "Welcome To Colaboratory",
      "provenance": [],
      "include_colab_link": true
    },
    "kernelspec": {
      "display_name": "Python 3",
      "name": "python3"
    }
  },
  "nbformat": 4,
  "nbformat_minor": 0
}